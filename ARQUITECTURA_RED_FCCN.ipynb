{
  "nbformat": 4,
  "nbformat_minor": 0,
  "metadata": {
    "colab": {
      "provenance": [],
      "authorship_tag": "ABX9TyPmAdBDrsWrzSi2fiSKdvQB",
      "include_colab_link": true
    },
    "kernelspec": {
      "name": "python3",
      "display_name": "Python 3"
    },
    "language_info": {
      "name": "python"
    }
  },
  "cells": [
    {
      "cell_type": "markdown",
      "metadata": {
        "id": "view-in-github",
        "colab_type": "text"
      },
      "source": [
        "<a href=\"https://colab.research.google.com/github/WOscarG/Arquitectura-red-FCNN/blob/main/ARQUITECTURA_RED_FCCN.ipynb\" target=\"_parent\"><img src=\"https://colab.research.google.com/assets/colab-badge.svg\" alt=\"Open In Colab\"/></a>"
      ]
    },
    {
      "cell_type": "code",
      "execution_count": null,
      "metadata": {
        "id": "oFU2GmZOt6iZ"
      },
      "outputs": [],
      "source": []
    },
    {
      "cell_type": "markdown",
      "source": [
        "Diseño de la arquitecra de la red FCCN - para la predicción de la demanda eléctrica a corto plazo."
      ],
      "metadata": {
        "id": "tpY1pnqHuAEj"
      }
    },
    {
      "cell_type": "code",
      "source": [
        "lass FCNN_3(nn.Module):\n",
        "    def __init__(self, num_classes, input_size, device):\n",
        "        super(FCNN_3, self).__init__()\n",
        "\n",
        "        self.device = device\n",
        "        self.num_classes = num_classes #number of outputs\n",
        "        self.input_size = input_size #input size\n",
        "\n",
        "        self.a = nn.Linear(input_size, 777)\n",
        "        self.b = nn.Linear(777, 333)\n",
        "        self.c = nn.Linear(333, 333)\n",
        "        self.d = nn.Linear(333, 111)\n",
        "        self.e = nn.Linear(111, num_classes)\n",
        "\n",
        "        self.relu = nn.ReLU()\n",
        "\n",
        "    def forward(self,x):\n",
        "\n",
        "        out = self.a(x)\n",
        "        out = self.relu(out)\n",
        "        out = self.b(out)\n",
        "        out = self.relu(out)\n",
        "        out = self.c(out)\n",
        "        out = self.relu(out)\n",
        "        out = self.d(out)\n",
        "        out = self.relu(out)\n",
        "        out = self.e(out)\n",
        "        out = self.relu(out)\n",
        "\n",
        "        return out"
      ],
      "metadata": {
        "id": "9rsIvLotuFnv"
      },
      "execution_count": null,
      "outputs": []
    },
    {
      "cell_type": "code",
      "source": [
        "#checking if there are any saved model checkpoint\n",
        "if torch.cuda.is_available():\n",
        "    device = torch.device(\"cuda\")\n",
        "else:\n",
        "    device = torch.device(\"cpu\")\n",
        "\n",
        "if os.path.isfile('./data/models/model_3_checkpoint.tar'):\n",
        "    #load the model\n",
        "    model = FCNN_3(num_classes = 1, input_size = X_train_tensors.shape[1], device=device)\n",
        "    optimizer = torch.optim.Adam(model.parameters(), lr=0.001)\n",
        "    model.to(device)\n",
        "    # Make sure to call input = input.to(device) on any input tensors that you feed to the model\n",
        "\n",
        "    checkpoint = torch.load('./data/models/model_3_checkpoint.tar', map_location=device)\n",
        "    model.load_state_dict(checkpoint['model_state_dict'])\n",
        "    optimizer.load_state_dict(checkpoint['optimizer_state_dict'])\n",
        "    epoch = checkpoint['epoch']\n",
        "    loss = checkpoint['loss']\n",
        "    print(model)\n",
        "\n",
        "else:\n",
        "    model = FCNN_3(num_classes = 1, input_size = X_train_tensors.shape[1], device=device)\n",
        "    model.to(device)\n",
        "    print(model)"
      ],
      "metadata": {
        "id": "HXR0YZ-ZuNmz"
      },
      "execution_count": null,
      "outputs": []
    }
  ]
}